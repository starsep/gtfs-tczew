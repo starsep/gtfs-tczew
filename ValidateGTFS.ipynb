{
 "cells": [
  {
   "cell_type": "code",
   "execution_count": null,
   "id": "ec3e0429",
   "metadata": {},
   "outputs": [],
   "source": [
    "import gtfs_kit as gk\n",
    "\n",
    "from configuration import outputGTFS\n",
    "\n",
    "feed = (gk.read_feed(outputGTFS, dist_units='km'))\n",
    "feed.validate()"
   ]
  }
 ],
 "metadata": {
  "kernelspec": {
   "display_name": "Python 3",
   "language": "python",
   "name": "python3"
  },
  "language_info": {
   "codemirror_mode": {
    "name": "ipython",
    "version": 3
   },
   "file_extension": ".py",
   "mimetype": "text/x-python",
   "name": "python",
   "nbconvert_exporter": "python",
   "pygments_lexer": "ipython3",
   "version": "3.11.0"
  }
 },
 "nbformat": 4,
 "nbformat_minor": 5
}
